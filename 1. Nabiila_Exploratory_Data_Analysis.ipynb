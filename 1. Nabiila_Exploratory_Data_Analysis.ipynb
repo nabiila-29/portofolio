{
  "nbformat": 4,
  "nbformat_minor": 0,
  "metadata": {
    "colab": {
      "name": "Nabiila - Practice Case - EDA.ipynb",
      "provenance": [],
      "collapsed_sections": [
        "AvJg13Y--UTh",
        "49QnauBkRFLk",
        "6K5sffEzJhHL"
      ],
      "authorship_tag": "ABX9TyOEA0eEd5HFASX3Rh2TOpiP",
      "include_colab_link": true
    },
    "kernelspec": {
      "name": "python3",
      "display_name": "Python 3"
    }
  },
  "cells": [
    {
      "cell_type": "markdown",
      "metadata": {
        "id": "view-in-github",
        "colab_type": "text"
      },
      "source": [
        "<a href=\"https://colab.research.google.com/github/nabiila-29/data-fellowship-5/blob/main/Nabiila_Practice_Case_EDA.ipynb\" target=\"_parent\"><img src=\"https://colab.research.google.com/assets/colab-badge.svg\" alt=\"Open In Colab\"/></a>"
      ]
    },
    {
      "cell_type": "markdown",
      "metadata": {
        "id": "Ur48ddrs9YAy"
      },
      "source": [
        "# 0. Data Preprocessing"
      ]
    },
    {
      "cell_type": "code",
      "metadata": {
        "id": "xyGWVHHH7t8g"
      },
      "source": [
        "#import library\r\n",
        "import pandas as pd"
      ],
      "execution_count": 44,
      "outputs": []
    },
    {
      "cell_type": "code",
      "metadata": {
        "colab": {
          "base_uri": "https://localhost:8080/",
          "height": 351
        },
        "id": "54Ln-Zdd8Kjd",
        "outputId": "b12f3c36-732b-4dde-c5be-b9388987255e"
      },
      "source": [
        "#read and check csv file\r\n",
        "df = pd.read_csv(\"https://raw.githubusercontent.com/Syukrondzeko/Fellowship-5/main/epl_1819.csv\", thousands=\",\")\r\n",
        "df.head()"
      ],
      "execution_count": 45,
      "outputs": [
        {
          "output_type": "execute_result",
          "data": {
            "text/html": [
              "<div>\n",
              "<style scoped>\n",
              "    .dataframe tbody tr th:only-of-type {\n",
              "        vertical-align: middle;\n",
              "    }\n",
              "\n",
              "    .dataframe tbody tr th {\n",
              "        vertical-align: top;\n",
              "    }\n",
              "\n",
              "    .dataframe thead th {\n",
              "        text-align: right;\n",
              "    }\n",
              "</style>\n",
              "<table border=\"1\" class=\"dataframe\">\n",
              "  <thead>\n",
              "    <tr style=\"text-align: right;\">\n",
              "      <th></th>\n",
              "      <th>Team</th>\n",
              "      <th>category</th>\n",
              "      <th>general_league_position</th>\n",
              "      <th>finance _live_games_televised</th>\n",
              "      <th>finance _tv_revenue</th>\n",
              "      <th>general_matches_played</th>\n",
              "      <th>general_won</th>\n",
              "      <th>general_draw</th>\n",
              "      <th>general_lost</th>\n",
              "      <th>attack_scored</th>\n",
              "      <th>defence_goals_conceeded</th>\n",
              "      <th>general_goal_difference</th>\n",
              "      <th>general_points</th>\n",
              "      <th>general_squad_size</th>\n",
              "      <th>general_squad_average_age</th>\n",
              "      <th>general_squad_foreigners</th>\n",
              "      <th>finance _team_market</th>\n",
              "      <th>finance _market_average</th>\n",
              "      <th>attack_passes</th>\n",
              "      <th>attack_passes_through</th>\n",
              "      <th>attack_passes_long</th>\n",
              "      <th>attack_passes_back</th>\n",
              "      <th>attack_crosses</th>\n",
              "      <th>attack_corners_taken</th>\n",
              "      <th>attack_shots</th>\n",
              "      <th>attack_shots_on_target</th>\n",
              "      <th>attack_goals_headed</th>\n",
              "      <th>attack_goals_penalty</th>\n",
              "      <th>attack_goals_box</th>\n",
              "      <th>attack_goals_outsidebox</th>\n",
              "      <th>general_card_yellow</th>\n",
              "      <th>general_card_red</th>\n",
              "      <th>attack_goals_counter</th>\n",
              "      <th>attack_goals_freekick</th>\n",
              "      <th>defence_saves</th>\n",
              "      <th>defence_blocks</th>\n",
              "      <th>defence_interceptions</th>\n",
              "      <th>defence_tackles</th>\n",
              "      <th>defence_tackles_last_man</th>\n",
              "      <th>defence_clearances</th>\n",
              "      <th>defence_clearances_headed</th>\n",
              "      <th>defence_penalty_conceeded</th>\n",
              "      <th>attack_posession</th>\n",
              "      <th>attack_pass_accuracy</th>\n",
              "    </tr>\n",
              "  </thead>\n",
              "  <tbody>\n",
              "    <tr>\n",
              "      <th>0</th>\n",
              "      <td>Manchester City</td>\n",
              "      <td>Champions League</td>\n",
              "      <td>1</td>\n",
              "      <td>26</td>\n",
              "      <td>150986355</td>\n",
              "      <td>38</td>\n",
              "      <td>32</td>\n",
              "      <td>2</td>\n",
              "      <td>4</td>\n",
              "      <td>95</td>\n",
              "      <td>23</td>\n",
              "      <td>72</td>\n",
              "      <td>98</td>\n",
              "      <td>25</td>\n",
              "      <td>27.1</td>\n",
              "      <td>20</td>\n",
              "      <td>1003200000</td>\n",
              "      <td>39987200</td>\n",
              "      <td>26581</td>\n",
              "      <td>112</td>\n",
              "      <td>1814</td>\n",
              "      <td>4240</td>\n",
              "      <td>783</td>\n",
              "      <td>298</td>\n",
              "      <td>683</td>\n",
              "      <td>260</td>\n",
              "      <td>12</td>\n",
              "      <td>3</td>\n",
              "      <td>80</td>\n",
              "      <td>15</td>\n",
              "      <td>44</td>\n",
              "      <td>1</td>\n",
              "      <td>5</td>\n",
              "      <td>2</td>\n",
              "      <td>58</td>\n",
              "      <td>63</td>\n",
              "      <td>362</td>\n",
              "      <td>518</td>\n",
              "      <td>0</td>\n",
              "      <td>543</td>\n",
              "      <td>295</td>\n",
              "      <td>4</td>\n",
              "      <td>64.0</td>\n",
              "      <td>89.0</td>\n",
              "    </tr>\n",
              "    <tr>\n",
              "      <th>1</th>\n",
              "      <td>Liverpool</td>\n",
              "      <td>Champions League</td>\n",
              "      <td>2</td>\n",
              "      <td>29</td>\n",
              "      <td>152425146</td>\n",
              "      <td>38</td>\n",
              "      <td>30</td>\n",
              "      <td>7</td>\n",
              "      <td>1</td>\n",
              "      <td>89</td>\n",
              "      <td>22</td>\n",
              "      <td>67</td>\n",
              "      <td>97</td>\n",
              "      <td>24</td>\n",
              "      <td>26.8</td>\n",
              "      <td>16</td>\n",
              "      <td>836440000</td>\n",
              "      <td>34848000</td>\n",
              "      <td>23638</td>\n",
              "      <td>98</td>\n",
              "      <td>2250</td>\n",
              "      <td>3416</td>\n",
              "      <td>721</td>\n",
              "      <td>249</td>\n",
              "      <td>575</td>\n",
              "      <td>226</td>\n",
              "      <td>19</td>\n",
              "      <td>7</td>\n",
              "      <td>84</td>\n",
              "      <td>5</td>\n",
              "      <td>38</td>\n",
              "      <td>2</td>\n",
              "      <td>6</td>\n",
              "      <td>1</td>\n",
              "      <td>76</td>\n",
              "      <td>78</td>\n",
              "      <td>314</td>\n",
              "      <td>610</td>\n",
              "      <td>2</td>\n",
              "      <td>639</td>\n",
              "      <td>317</td>\n",
              "      <td>1</td>\n",
              "      <td>58.8</td>\n",
              "      <td>84.4</td>\n",
              "    </tr>\n",
              "    <tr>\n",
              "      <th>2</th>\n",
              "      <td>Chelsea</td>\n",
              "      <td>Champions League Qualification</td>\n",
              "      <td>3</td>\n",
              "      <td>25</td>\n",
              "      <td>146030216</td>\n",
              "      <td>38</td>\n",
              "      <td>21</td>\n",
              "      <td>9</td>\n",
              "      <td>8</td>\n",
              "      <td>63</td>\n",
              "      <td>39</td>\n",
              "      <td>24</td>\n",
              "      <td>72</td>\n",
              "      <td>26</td>\n",
              "      <td>28.1</td>\n",
              "      <td>19</td>\n",
              "      <td>779460000</td>\n",
              "      <td>29981600</td>\n",
              "      <td>25070</td>\n",
              "      <td>146</td>\n",
              "      <td>1774</td>\n",
              "      <td>3874</td>\n",
              "      <td>692</td>\n",
              "      <td>215</td>\n",
              "      <td>607</td>\n",
              "      <td>198</td>\n",
              "      <td>8</td>\n",
              "      <td>5</td>\n",
              "      <td>54</td>\n",
              "      <td>9</td>\n",
              "      <td>49</td>\n",
              "      <td>0</td>\n",
              "      <td>1</td>\n",
              "      <td>1</td>\n",
              "      <td>85</td>\n",
              "      <td>73</td>\n",
              "      <td>351</td>\n",
              "      <td>618</td>\n",
              "      <td>2</td>\n",
              "      <td>593</td>\n",
              "      <td>330</td>\n",
              "      <td>2</td>\n",
              "      <td>59.9</td>\n",
              "      <td>87.6</td>\n",
              "    </tr>\n",
              "    <tr>\n",
              "      <th>3</th>\n",
              "      <td>Tottenham</td>\n",
              "      <td>Champions League Qualification</td>\n",
              "      <td>4</td>\n",
              "      <td>26</td>\n",
              "      <td>145230801</td>\n",
              "      <td>38</td>\n",
              "      <td>23</td>\n",
              "      <td>2</td>\n",
              "      <td>13</td>\n",
              "      <td>67</td>\n",
              "      <td>39</td>\n",
              "      <td>28</td>\n",
              "      <td>71</td>\n",
              "      <td>25</td>\n",
              "      <td>27.0</td>\n",
              "      <td>17</td>\n",
              "      <td>735240000</td>\n",
              "      <td>29409600</td>\n",
              "      <td>21295</td>\n",
              "      <td>87</td>\n",
              "      <td>2267</td>\n",
              "      <td>3191</td>\n",
              "      <td>643</td>\n",
              "      <td>194</td>\n",
              "      <td>537</td>\n",
              "      <td>189</td>\n",
              "      <td>14</td>\n",
              "      <td>4</td>\n",
              "      <td>53</td>\n",
              "      <td>14</td>\n",
              "      <td>56</td>\n",
              "      <td>3</td>\n",
              "      <td>5</td>\n",
              "      <td>2</td>\n",
              "      <td>121</td>\n",
              "      <td>112</td>\n",
              "      <td>326</td>\n",
              "      <td>626</td>\n",
              "      <td>3</td>\n",
              "      <td>770</td>\n",
              "      <td>411</td>\n",
              "      <td>5</td>\n",
              "      <td>56.7</td>\n",
              "      <td>83.2</td>\n",
              "    </tr>\n",
              "    <tr>\n",
              "      <th>4</th>\n",
              "      <td>Arsenal</td>\n",
              "      <td>Europa League</td>\n",
              "      <td>5</td>\n",
              "      <td>25</td>\n",
              "      <td>142193180</td>\n",
              "      <td>38</td>\n",
              "      <td>21</td>\n",
              "      <td>7</td>\n",
              "      <td>10</td>\n",
              "      <td>73</td>\n",
              "      <td>51</td>\n",
              "      <td>22</td>\n",
              "      <td>70</td>\n",
              "      <td>26</td>\n",
              "      <td>27.5</td>\n",
              "      <td>18</td>\n",
              "      <td>701800000</td>\n",
              "      <td>26989600</td>\n",
              "      <td>20805</td>\n",
              "      <td>65</td>\n",
              "      <td>2062</td>\n",
              "      <td>3102</td>\n",
              "      <td>605</td>\n",
              "      <td>209</td>\n",
              "      <td>467</td>\n",
              "      <td>170</td>\n",
              "      <td>5</td>\n",
              "      <td>4</td>\n",
              "      <td>62</td>\n",
              "      <td>11</td>\n",
              "      <td>72</td>\n",
              "      <td>2</td>\n",
              "      <td>3</td>\n",
              "      <td>3</td>\n",
              "      <td>133</td>\n",
              "      <td>118</td>\n",
              "      <td>412</td>\n",
              "      <td>609</td>\n",
              "      <td>2</td>\n",
              "      <td>762</td>\n",
              "      <td>404</td>\n",
              "      <td>7</td>\n",
              "      <td>56.1</td>\n",
              "      <td>83.3</td>\n",
              "    </tr>\n",
              "  </tbody>\n",
              "</table>\n",
              "</div>"
            ],
            "text/plain": [
              "              Team  ... attack_pass_accuracy\n",
              "0  Manchester City  ...                 89.0\n",
              "1        Liverpool  ...                 84.4\n",
              "2          Chelsea  ...                 87.6\n",
              "3        Tottenham  ...                 83.2\n",
              "4          Arsenal  ...                 83.3\n",
              "\n",
              "[5 rows x 44 columns]"
            ]
          },
          "metadata": {
            "tags": []
          },
          "execution_count": 45
        }
      ]
    },
    {
      "cell_type": "markdown",
      "metadata": {
        "id": "AvJg13Y--UTh"
      },
      "source": [
        "# 1. Whether this data is clean?\r\n"
      ]
    },
    {
      "cell_type": "code",
      "metadata": {
        "colab": {
          "base_uri": "https://localhost:8080/"
        },
        "id": "ngde2r2n9uns",
        "outputId": "937019fc-bb5f-4500-d192-2692d99d59b1"
      },
      "source": [
        "#check the missing value \r\n",
        "df.isnull().sum()                                 "
      ],
      "execution_count": 46,
      "outputs": [
        {
          "output_type": "execute_result",
          "data": {
            "text/plain": [
              "Team                             0\n",
              "category                         0\n",
              "general_league_position          0\n",
              "finance _live_games_televised    0\n",
              "finance _tv_revenue              0\n",
              "general_matches_played           0\n",
              "general_won                      0\n",
              "general_draw                     0\n",
              "general_lost                     0\n",
              "attack_scored                    0\n",
              "defence_goals_conceeded          0\n",
              "general_goal_difference          0\n",
              "general_points                   0\n",
              "general_squad_size               0\n",
              "general_squad_average_age        0\n",
              "general_squad_foreigners         0\n",
              "finance _team_market             0\n",
              "finance _market_average          0\n",
              "attack_passes                    0\n",
              "attack_passes_through            0\n",
              "attack_passes_long               0\n",
              "attack_passes_back               0\n",
              "attack_crosses                   0\n",
              "attack_corners_taken             0\n",
              "attack_shots                     0\n",
              "attack_shots_on_target           0\n",
              "attack_goals_headed              0\n",
              "attack_goals_penalty             0\n",
              "attack_goals_box                 0\n",
              "attack_goals_outsidebox          0\n",
              "general_card_yellow              0\n",
              "general_card_red                 0\n",
              "attack_goals_counter             0\n",
              "attack_goals_freekick            0\n",
              "defence_saves                    0\n",
              "defence_blocks                   0\n",
              "defence_interceptions            0\n",
              "defence_tackles                  0\n",
              "defence_tackles_last_man         0\n",
              "defence_clearances               0\n",
              "defence_clearances_headed        0\n",
              "defence_penalty_conceeded        0\n",
              "attack_posession                 0\n",
              "attack_pass_accuracy             0\n",
              "dtype: int64"
            ]
          },
          "metadata": {
            "tags": []
          },
          "execution_count": 46
        }
      ]
    },
    {
      "cell_type": "markdown",
      "metadata": {
        "id": "gOd3A5k3-j8y"
      },
      "source": [
        "0 indicates there is no missing value."
      ]
    },
    {
      "cell_type": "code",
      "metadata": {
        "colab": {
          "base_uri": "https://localhost:8080/"
        },
        "id": "McWgqCQAGj64",
        "outputId": "9dcfd5fc-5a79-4fb0-e2da-460dd6671319"
      },
      "source": [
        "#check duplicate values\r\n",
        "df.duplicated()"
      ],
      "execution_count": 47,
      "outputs": [
        {
          "output_type": "execute_result",
          "data": {
            "text/plain": [
              "0     False\n",
              "1     False\n",
              "2     False\n",
              "3     False\n",
              "4     False\n",
              "5     False\n",
              "6     False\n",
              "7     False\n",
              "8     False\n",
              "9     False\n",
              "10    False\n",
              "11    False\n",
              "12    False\n",
              "13    False\n",
              "14    False\n",
              "15    False\n",
              "16    False\n",
              "17    False\n",
              "18    False\n",
              "19    False\n",
              "dtype: bool"
            ]
          },
          "metadata": {
            "tags": []
          },
          "execution_count": 47
        }
      ]
    },
    {
      "cell_type": "markdown",
      "metadata": {
        "id": "1wsqeQ8RagXT"
      },
      "source": [
        "'False' indicates there is duplicate values in this dataset"
      ]
    },
    {
      "cell_type": "code",
      "metadata": {
        "colab": {
          "base_uri": "https://localhost:8080/"
        },
        "id": "r7f7uscqHTqB",
        "outputId": "1602789f-3a85-4782-af4b-eebf0b4a07d4"
      },
      "source": [
        "#check data type\r\n",
        "df.dtypes"
      ],
      "execution_count": 48,
      "outputs": [
        {
          "output_type": "execute_result",
          "data": {
            "text/plain": [
              "Team                              object\n",
              "category                          object\n",
              "general_league_position            int64\n",
              "finance _live_games_televised      int64\n",
              "finance _tv_revenue                int64\n",
              "general_matches_played             int64\n",
              "general_won                        int64\n",
              "general_draw                       int64\n",
              "general_lost                       int64\n",
              "attack_scored                      int64\n",
              "defence_goals_conceeded            int64\n",
              "general_goal_difference            int64\n",
              "general_points                     int64\n",
              "general_squad_size                 int64\n",
              "general_squad_average_age        float64\n",
              "general_squad_foreigners           int64\n",
              "finance _team_market               int64\n",
              "finance _market_average            int64\n",
              "attack_passes                      int64\n",
              "attack_passes_through              int64\n",
              "attack_passes_long                 int64\n",
              "attack_passes_back                 int64\n",
              "attack_crosses                     int64\n",
              "attack_corners_taken               int64\n",
              "attack_shots                       int64\n",
              "attack_shots_on_target             int64\n",
              "attack_goals_headed                int64\n",
              "attack_goals_penalty               int64\n",
              "attack_goals_box                   int64\n",
              "attack_goals_outsidebox            int64\n",
              "general_card_yellow                int64\n",
              "general_card_red                   int64\n",
              "attack_goals_counter               int64\n",
              "attack_goals_freekick              int64\n",
              "defence_saves                      int64\n",
              "defence_blocks                     int64\n",
              "defence_interceptions              int64\n",
              "defence_tackles                    int64\n",
              "defence_tackles_last_man           int64\n",
              "defence_clearances                 int64\n",
              "defence_clearances_headed          int64\n",
              "defence_penalty_conceeded          int64\n",
              "attack_posession                 float64\n",
              "attack_pass_accuracy             float64\n",
              "dtype: object"
            ]
          },
          "metadata": {
            "tags": []
          },
          "execution_count": 48
        }
      ]
    },
    {
      "cell_type": "markdown",
      "metadata": {
        "id": "hX5pX6-2inTv"
      },
      "source": [
        "no data transformation needed. All data has been in numeric type"
      ]
    },
    {
      "cell_type": "markdown",
      "metadata": {
        "id": "CGBit80zRKgW"
      },
      "source": [
        "# 2. How is the point distribution of the epl team? and which team is an anomaly?\r\n",
        " "
      ]
    },
    {
      "cell_type": "markdown",
      "metadata": {
        "id": "49QnauBkRFLk"
      },
      "source": [
        "## 1st Normality Test (Histogram)"
      ]
    },
    {
      "cell_type": "code",
      "metadata": {
        "id": "WzvjyL21-zXM"
      },
      "source": [
        "# Import library\r\n",
        "import seaborn as sns"
      ],
      "execution_count": 49,
      "outputs": []
    },
    {
      "cell_type": "code",
      "metadata": {
        "colab": {
          "base_uri": "https://localhost:8080/",
          "height": 0
        },
        "id": "AeSw277JG7Mp",
        "outputId": "635ee320-9ada-4364-efaa-d2a8feabf0eb"
      },
      "source": [
        "#generate Gaussian Chart \r\n",
        "sns.distplot(df.general_points)"
      ],
      "execution_count": 50,
      "outputs": [
        {
          "output_type": "stream",
          "text": [
            "/usr/local/lib/python3.7/dist-packages/seaborn/distributions.py:2557: FutureWarning: `distplot` is a deprecated function and will be removed in a future version. Please adapt your code to use either `displot` (a figure-level function with similar flexibility) or `histplot` (an axes-level function for histograms).\n",
            "  warnings.warn(msg, FutureWarning)\n"
          ],
          "name": "stderr"
        },
        {
          "output_type": "execute_result",
          "data": {
            "text/plain": [
              "<matplotlib.axes._subplots.AxesSubplot at 0x7f0e04422d90>"
            ]
          },
          "metadata": {
            "tags": []
          },
          "execution_count": 50
        },
        {
          "output_type": "display_data",
          "data": {
            "image/png": "[encoded data removed]",
            "text/plain": [
              "<Figure size 432x288 with 1 Axes>"
            ]
          },
          "metadata": {
            "tags": [],
            "needs_background": "light"
          }
        }
      ]
    },
    {
      "cell_type": "markdown",
      "metadata": {
        "id": "S7tXy3wQQgAm"
      },
      "source": [
        "## 2nd Normality Test (QQ)"
      ]
    },
    {
      "cell_type": "code",
      "metadata": {
        "id": "YqxenuqvJh0Q"
      },
      "source": [
        "#import library\r\n",
        "from scipy import stats\r\n",
        "import scipy as scipy"
      ],
      "execution_count": 51,
      "outputs": []
    },
    {
      "cell_type": "code",
      "metadata": {
        "colab": {
          "base_uri": "https://localhost:8080/",
          "height": 330
        },
        "id": "v-nUNhAvKXFq",
        "outputId": "c5a3a782-47a6-47f4-a762-79cfe881fae1"
      },
      "source": [
        "#generate chart\r\n",
        "stats.probplot(df['general_points'],plot=plt)\r\n",
        "plt.figure()"
      ],
      "execution_count": 52,
      "outputs": [
        {
          "output_type": "execute_result",
          "data": {
            "text/plain": [
              "<Figure size 432x288 with 0 Axes>"
            ]
          },
          "metadata": {
            "tags": []
          },
          "execution_count": 52
        },
        {
          "output_type": "display_data",
          "data": {
            "image/png": "[encoded data removed]",
            "text/plain": [
              "<Figure size 432x288 with 1 Axes>"
            ]
          },
          "metadata": {
            "tags": [],
            "needs_background": "light"
          }
        },
        {
          "output_type": "display_data",
          "data": {
            "text/plain": [
              "<Figure size 432x288 with 0 Axes>"
            ]
          },
          "metadata": {
            "tags": []
          }
        }
      ]
    },
    {
      "cell_type": "markdown",
      "metadata": {
        "id": "C7t8Qj-GQBMH"
      },
      "source": [
        "## 3rd Normality Test (Shapiro)"
      ]
    },
    {
      "cell_type": "code",
      "metadata": {
        "colab": {
          "base_uri": "https://localhost:8080/"
        },
        "id": "5iy3x6fcLCo-",
        "outputId": "7b639fd9-6304-4fd7-b16b-c95d0d501691"
      },
      "source": [
        "#shapiro vilk test\r\n",
        "stats.shapiro(df['general_points'])"
      ],
      "execution_count": 53,
      "outputs": [
        {
          "output_type": "execute_result",
          "data": {
            "text/plain": [
              "(0.9527729749679565, 0.41115203499794006)"
            ]
          },
          "metadata": {
            "tags": []
          },
          "execution_count": 53
        }
      ]
    },
    {
      "cell_type": "markdown",
      "metadata": {
        "id": "3oiuTaKOMuZE"
      },
      "source": [
        "we see the p-value. The p-value is the second value of the result above. The normal data has p-value 0> 0.05\r\n",
        "\r\n",
        "the p-value of the data is 0.41115203499794006.\r\n",
        ".\r\n",
        "The data above is normal because the **p-value > 0.05**"
      ]
    },
    {
      "cell_type": "markdown",
      "metadata": {
        "id": "wXj-SuD5TbCr"
      },
      "source": [
        "## 4th Normality Test (D'Agostin's K-squared test)"
      ]
    },
    {
      "cell_type": "code",
      "metadata": {
        "colab": {
          "base_uri": "https://localhost:8080/"
        },
        "id": "jTuWrG3IS9oy",
        "outputId": "c5e29da2-c931-4b8e-8e8b-4e53439e52cb"
      },
      "source": [
        "stats.normaltest(df['general_points'])"
      ],
      "execution_count": 54,
      "outputs": [
        {
          "output_type": "execute_result",
          "data": {
            "text/plain": [
              "NormaltestResult(statistic=1.946940724454761, pvalue=0.3777697627355659)"
            ]
          },
          "metadata": {
            "tags": []
          },
          "execution_count": 54
        }
      ]
    },
    {
      "cell_type": "markdown",
      "metadata": {
        "id": "zsUbZZPOTFmI"
      },
      "source": [
        "If the p-value> 0.05, the distribution of the data is normal. Above we have 0.377. The data distribution is normal"
      ]
    },
    {
      "cell_type": "markdown",
      "metadata": {
        "id": "qzSgmB_dMsLw"
      },
      "source": [
        "# 3. Which team has the best attack?\r\n",
        "\r\n"
      ]
    },
    {
      "cell_type": "code",
      "metadata": {
        "colab": {
          "base_uri": "https://localhost:8080/",
          "height": 107
        },
        "id": "mQFrfENUPb7q",
        "outputId": "9b54eca9-9e3e-486a-980d-6b3f4672680a"
      },
      "source": [
        "#best attack team\r\n",
        "best_attack= df.sort_values('attack_scored', ascending=False)\r\n",
        "best_attack[['Team', 'attack_scored']].head(2)"
      ],
      "execution_count": 55,
      "outputs": [
        {
          "output_type": "execute_result",
          "data": {
            "text/html": [
              "<div>\n",
              "<style scoped>\n",
              "    .dataframe tbody tr th:only-of-type {\n",
              "        vertical-align: middle;\n",
              "    }\n",
              "\n",
              "    .dataframe tbody tr th {\n",
              "        vertical-align: top;\n",
              "    }\n",
              "\n",
              "    .dataframe thead th {\n",
              "        text-align: right;\n",
              "    }\n",
              "</style>\n",
              "<table border=\"1\" class=\"dataframe\">\n",
              "  <thead>\n",
              "    <tr style=\"text-align: right;\">\n",
              "      <th></th>\n",
              "      <th>Team</th>\n",
              "      <th>attack_scored</th>\n",
              "    </tr>\n",
              "  </thead>\n",
              "  <tbody>\n",
              "    <tr>\n",
              "      <th>0</th>\n",
              "      <td>Manchester City</td>\n",
              "      <td>95</td>\n",
              "    </tr>\n",
              "    <tr>\n",
              "      <th>1</th>\n",
              "      <td>Liverpool</td>\n",
              "      <td>89</td>\n",
              "    </tr>\n",
              "  </tbody>\n",
              "</table>\n",
              "</div>"
            ],
            "text/plain": [
              "              Team  attack_scored\n",
              "0  Manchester City             95\n",
              "1        Liverpool             89"
            ]
          },
          "metadata": {
            "tags": []
          },
          "execution_count": 55
        }
      ]
    },
    {
      "cell_type": "markdown",
      "metadata": {
        "id": "uzJIxfOZH2md"
      },
      "source": [
        "Based on the sum of attack score, Manchester City has the best attack."
      ]
    },
    {
      "cell_type": "code",
      "metadata": {
        "colab": {
          "base_uri": "https://localhost:8080/",
          "height": 418
        },
        "id": "iniLGePSJrcc",
        "outputId": "cfed0182-7497-4f98-efb1-ebd9e5cc0d4d"
      },
      "source": [
        "#generate chart\r\n",
        "import matplotlib.pyplot as plt\r\n",
        "\r\n",
        "plt.figure(figsize=(30,8))\r\n",
        "plt.bar(best_attack['Team'], best_attack['attack_scored'],)\r\n",
        "plt.title('Best Attack Team')\r\n",
        "plt.xlabel('Team')\r\n",
        "plt.ylabel('goal_scored')\r\n",
        "plt.show()"
      ],
      "execution_count": 56,
      "outputs": [
        {
          "output_type": "display_data",
          "data": {
            "image/png": "[encoded data removed]",
            "text/plain": [
              "<Figure size 2160x576 with 1 Axes>"
            ]
          },
          "metadata": {
            "tags": [],
            "needs_background": "light"
          }
        }
      ]
    },
    {
      "cell_type": "markdown",
      "metadata": {
        "id": "ZRSNIoBhPD_x"
      },
      "source": [
        "# 4. Which team has the best defence?"
      ]
    },
    {
      "cell_type": "code",
      "metadata": {
        "colab": {
          "base_uri": "https://localhost:8080/",
          "height": 107
        },
        "id": "nzlk4vwMSgQo",
        "outputId": "c4fafd61-486e-44e0-fb04-00d4e980c30c"
      },
      "source": [
        "#best defence team\r\n",
        "best_defence= df.sort_values('defence_goals_conceeded', ascending=True)\r\n",
        "best_defence[['Team', 'defence_goals_conceeded']].head(2)"
      ],
      "execution_count": 57,
      "outputs": [
        {
          "output_type": "execute_result",
          "data": {
            "text/html": [
              "<div>\n",
              "<style scoped>\n",
              "    .dataframe tbody tr th:only-of-type {\n",
              "        vertical-align: middle;\n",
              "    }\n",
              "\n",
              "    .dataframe tbody tr th {\n",
              "        vertical-align: top;\n",
              "    }\n",
              "\n",
              "    .dataframe thead th {\n",
              "        text-align: right;\n",
              "    }\n",
              "</style>\n",
              "<table border=\"1\" class=\"dataframe\">\n",
              "  <thead>\n",
              "    <tr style=\"text-align: right;\">\n",
              "      <th></th>\n",
              "      <th>Team</th>\n",
              "      <th>defence_goals_conceeded</th>\n",
              "    </tr>\n",
              "  </thead>\n",
              "  <tbody>\n",
              "    <tr>\n",
              "      <th>1</th>\n",
              "      <td>Liverpool</td>\n",
              "      <td>22</td>\n",
              "    </tr>\n",
              "    <tr>\n",
              "      <th>0</th>\n",
              "      <td>Manchester City</td>\n",
              "      <td>23</td>\n",
              "    </tr>\n",
              "  </tbody>\n",
              "</table>\n",
              "</div>"
            ],
            "text/plain": [
              "              Team  defence_goals_conceeded\n",
              "1        Liverpool                       22\n",
              "0  Manchester City                       23"
            ]
          },
          "metadata": {
            "tags": []
          },
          "execution_count": 57
        }
      ]
    },
    {
      "cell_type": "code",
      "metadata": {
        "colab": {
          "base_uri": "https://localhost:8080/",
          "height": 533
        },
        "id": "4093U5a6UnJJ",
        "outputId": "73421846-6169-4a1f-ea4a-3dd9a5a0aa36"
      },
      "source": [
        "#generate chart\r\n",
        "import matplotlib.pyplot as plt\r\n",
        "\r\n",
        "plt.figure(figsize=(30,8))\r\n",
        "plt.bar(best_defence['Team'], best_defence['defence_goals_conceeded'])\r\n",
        "plt.title('Best Defence Team')\r\n",
        "plt.xlabel('Team')\r\n",
        "plt.ylabel('goal_concended')\r\n",
        "plt.show()"
      ],
      "execution_count": 58,
      "outputs": [
        {
          "output_type": "display_data",
          "data": {
            "image/png": "[encoded data removed]",
            "text/plain": [
              "<Figure size 2160x576 with 1 Axes>"
            ]
          },
          "metadata": {
            "tags": [],
            "needs_background": "light"
          }
        }
      ]
    },
    {
      "cell_type": "markdown",
      "metadata": {
        "id": "6K5sffEzJhHL"
      },
      "source": [
        "# 5. Which team is good in financial aspect?"
      ]
    },
    {
      "cell_type": "code",
      "metadata": {
        "colab": {
          "base_uri": "https://localhost:8080/",
          "height": 107
        },
        "id": "gyZNBvOpccT_",
        "outputId": "ca480c2f-3a9d-442c-c4ec-3204e3078664"
      },
      "source": [
        "#best finance team\r\n",
        "best_finance= df.sort_values('finance _tv_revenue', ascending=False)\r\n",
        "best_finance[['Team', 'finance _tv_revenue']].head(2)"
      ],
      "execution_count": 59,
      "outputs": [
        {
          "output_type": "execute_result",
          "data": {
            "text/html": [
              "<div>\n",
              "<style scoped>\n",
              "    .dataframe tbody tr th:only-of-type {\n",
              "        vertical-align: middle;\n",
              "    }\n",
              "\n",
              "    .dataframe tbody tr th {\n",
              "        vertical-align: top;\n",
              "    }\n",
              "\n",
              "    .dataframe thead th {\n",
              "        text-align: right;\n",
              "    }\n",
              "</style>\n",
              "<table border=\"1\" class=\"dataframe\">\n",
              "  <thead>\n",
              "    <tr style=\"text-align: right;\">\n",
              "      <th></th>\n",
              "      <th>Team</th>\n",
              "      <th>finance _tv_revenue</th>\n",
              "    </tr>\n",
              "  </thead>\n",
              "  <tbody>\n",
              "    <tr>\n",
              "      <th>1</th>\n",
              "      <td>Liverpool</td>\n",
              "      <td>152425146</td>\n",
              "    </tr>\n",
              "    <tr>\n",
              "      <th>0</th>\n",
              "      <td>Manchester City</td>\n",
              "      <td>150986355</td>\n",
              "    </tr>\n",
              "  </tbody>\n",
              "</table>\n",
              "</div>"
            ],
            "text/plain": [
              "              Team  finance _tv_revenue\n",
              "1        Liverpool            152425146\n",
              "0  Manchester City            150986355"
            ]
          },
          "metadata": {
            "tags": []
          },
          "execution_count": 59
        }
      ]
    },
    {
      "cell_type": "code",
      "metadata": {
        "colab": {
          "base_uri": "https://localhost:8080/",
          "height": 417
        },
        "id": "f7D0gzGpc4W6",
        "outputId": "a0274f46-7cad-4ed6-eda2-e5a0341c566b"
      },
      "source": [
        "#generate chart\r\n",
        "import matplotlib.pyplot as plt\r\n",
        "\r\n",
        "plt.figure(figsize=(30,8))\r\n",
        "plt.bar(best_finance['Team'], best_finance['finance _tv_revenue'])\r\n",
        "plt.title('Best Finance Team')\r\n",
        "plt.xlabel('Team')\r\n",
        "plt.ylabel('TV_revenue')\r\n",
        "plt.show()"
      ],
      "execution_count": 60,
      "outputs": [
        {
          "output_type": "display_data",
          "data": {
            "image/png": "[encoded data removed]",
            "text/plain": [
              "<Figure size 2160x576 with 1 Axes>"
            ]
          },
          "metadata": {
            "tags": [],
            "needs_background": "light"
          }
        }
      ]
    },
    {
      "cell_type": "markdown",
      "metadata": {
        "id": "XRFBuMarr55I"
      },
      "source": [
        "# 6. Correlation TV revenue and the number of wins"
      ]
    },
    {
      "cell_type": "markdown",
      "metadata": {
        "id": "F5M-Q0hKsEPW"
      },
      "source": [
        "I wonder. Does TV revenue correlate with the number of wins?"
      ]
    },
    {
      "cell_type": "code",
      "metadata": {
        "colab": {
          "base_uri": "https://localhost:8080/"
        },
        "id": "lGH_HXPQsC8C",
        "outputId": "80952f6c-c750-4e59-dd93-65957d7cf40d"
      },
      "source": [
        "import numpy as np\r\n",
        "np.corrcoef(df['finance _tv_revenue'],df['general_won'])"
      ],
      "execution_count": 61,
      "outputs": [
        {
          "output_type": "execute_result",
          "data": {
            "text/plain": [
              "array([[1.        , 0.93781166],\n",
              "       [0.93781166, 1.        ]])"
            ]
          },
          "metadata": {
            "tags": []
          },
          "execution_count": 61
        }
      ]
    },
    {
      "cell_type": "code",
      "metadata": {
        "colab": {
          "base_uri": "https://localhost:8080/",
          "height": 353
        },
        "id": "5DEmp7-JtEwq",
        "outputId": "90b7e1d0-ec41-4276-8769-58bf41b99c8a"
      },
      "source": [
        "sns.scatterplot(df['finance _tv_revenue'],df['general_won'])"
      ],
      "execution_count": 62,
      "outputs": [
        {
          "output_type": "stream",
          "text": [
            "/usr/local/lib/python3.7/dist-packages/seaborn/_decorators.py:43: FutureWarning: Pass the following variables as keyword args: x, y. From version 0.12, the only valid positional argument will be `data`, and passing other arguments without an explicit keyword will result in an error or misinterpretation.\n",
            "  FutureWarning\n"
          ],
          "name": "stderr"
        },
        {
          "output_type": "execute_result",
          "data": {
            "text/plain": [
              "<matplotlib.axes._subplots.AxesSubplot at 0x7f0e04062610>"
            ]
          },
          "metadata": {
            "tags": []
          },
          "execution_count": 62
        },
        {
          "output_type": "display_data",
          "data": {
            "image/png": "[encoded data removed]",
            "text/plain": [
              "<Figure size 432x288 with 1 Axes>"
            ]
          },
          "metadata": {
            "tags": [],
            "needs_background": "light"
          }
        }
      ]
    },
    {
      "cell_type": "markdown",
      "metadata": {
        "id": "J-96Y7YGua-e"
      },
      "source": [
        "The coeficient is 0.937. It is a strong positive correlation!\r\n",
        "\r\n",
        "It tells us that TV will be more interesting with the winnest team. This is evidenced by the team revenue from TV contract. the higher the number of wins, the higher the revenue. "
      ]
    }
  ]
}